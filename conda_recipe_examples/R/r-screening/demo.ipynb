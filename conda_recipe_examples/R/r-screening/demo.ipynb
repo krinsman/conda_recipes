{
 "cells": [
  {
   "cell_type": "code",
   "execution_count": 1,
   "metadata": {},
   "outputs": [],
   "source": [
    "library(screening)"
   ]
  },
  {
   "cell_type": "code",
   "execution_count": 3,
   "metadata": {},
   "outputs": [],
   "source": [
    "?screening"
   ]
  },
  {
   "cell_type": "code",
   "execution_count": 4,
   "metadata": {},
   "outputs": [
    {
     "name": "stdout",
     "output_type": "stream",
     "text": [
      "[1] \"The true non-zero coefficients are:\"\n",
      "[1] 1 2 3\n",
      "[1] \"Start SIS...\"\n",
      "[1] \"SIS selects the following coefficients:\"\n",
      " [1]   1 168 103  12  92  18  49 145  47 176  79  84 189 122 172 125 171  73   3\n",
      "[20]  87\n",
      "[1] \"Start HOLP...\"\n",
      "[1] \"HOLP selects the following coefficients:\"\n",
      " [1]   1 145 103  49  79  84  56 194 126 181  18 168  12  43 112  92 150 173  87\n",
      "[20] 108\n",
      "[1] \"Start RRCS...\"\n",
      "[1] \"RRCS selects the following coefficients:\"\n",
      " [1]   1  92  18  49 145  47 168  12   4  84  87  79 103  73 108 175 172  43 128\n",
      "[20] 122\n",
      "[1] \"Start forward regression...\"\n",
      "[1] \"Forward regression selects the following coefficients:\"\n",
      " [1]   1 103   2  86  66 181 145 128 166 192  56 157 185  85  84 180 188  17  26\n",
      "[20]   9\n"
     ]
    },
    {
     "ename": "ERROR",
     "evalue": "Error in logisticTest(n = 50, p = 100, beta.not.null = c(1, 2, 3), nums.select = 20): unused argument (nums.select = 20)\n",
     "output_type": "error",
     "traceback": [
      "Error in logisticTest(n = 50, p = 100, beta.not.null = c(1, 2, 3), nums.select = 20): unused argument (nums.select = 20)\nTraceback:\n"
     ]
    }
   ],
   "source": [
    "linearModelTest(n = 50, p = 100, beta.not.null = c(1, 2, 3), num.select = 20)\n",
    "logisticTest(n = 50, p = 100, beta.not.null = c(1, 2, 3), nums.select = 20)"
   ]
  }
 ],
 "metadata": {
  "kernelspec": {
   "display_name": "R [conda env:lobstr]",
   "language": "R",
   "name": "conda-env-lobstr-r"
  },
  "language_info": {
   "codemirror_mode": "r",
   "file_extension": ".r",
   "mimetype": "text/x-r-source",
   "name": "R",
   "pygments_lexer": "r",
   "version": "3.4.3"
  }
 },
 "nbformat": 4,
 "nbformat_minor": 2
}
