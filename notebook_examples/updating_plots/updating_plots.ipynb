{
 "cells": [
  {
   "cell_type": "code",
   "execution_count": 1,
   "metadata": {},
   "outputs": [],
   "source": [
    "## Note: doing \"run all cells\" causes things to look bad\n",
    "## But things look good if you run it cell by cell\n",
    " \n",
    "import ipywidgets as widgets\n",
    "%matplotlib widget\n",
    "import numpy as np\n",
    "import matplotlib.pyplot as plt\n",
    "\n",
    "from time import sleep"
   ]
  },
  {
   "cell_type": "code",
   "execution_count": 2,
   "metadata": {},
   "outputs": [
    {
     "data": {
      "application/vnd.jupyter.widget-view+json": {
       "model_id": "d6c4c916c3094f608e08595a5d6ca08f",
       "version_major": 2,
       "version_minor": 0
      },
      "text/plain": [
       "Canvas(toolbar=Toolbar(toolitems=[('Home', 'Reset original view', 'home', 'home'), ('Back', 'Back to previous …"
      ]
     },
     "metadata": {},
     "output_type": "display_data"
    }
   ],
   "source": [
    "def init_plot():\n",
    "    out = widgets.Output()\n",
    "    fig = plt.figure()\n",
    "    ax = fig.add_subplot(111)\n",
    "    return out, fig, ax\n",
    "\n",
    "output_widget, figure, axis = init_plot()"
   ]
  },
  {
   "cell_type": "code",
   "execution_count": 3,
   "metadata": {},
   "outputs": [],
   "source": [
    "def refresh_plot_sin(output_widget, figure, axis):\n",
    "    x = np.linspace(0, 10)\n",
    "    line, = axis.plot(x, np.sin(x))\n",
    "    \n",
    "    with output_widget:\n",
    "        for i in range(1,11):\n",
    "            output_widget.clear_output(wait=True)\n",
    "            line.set_ydata(np.sin(i*x))\n",
    "            sleep(1)\n",
    "            figure.canvas.draw() \n",
    "\n",
    "def overlay_plot_sin(output_widget, figure, axis):\n",
    "    x = np.linspace(0, 10)\n",
    "    line, = axis.plot(x, np.sin(x))\n",
    "    \n",
    "    with output_widget:\n",
    "        for i in range(1,11):\n",
    "            output_widget.clear_output(wait=True)\n",
    "            axis.plot(x, np.sin(i*x))\n",
    "            sleep(1)\n",
    "            figure.canvas.draw()"
   ]
  },
  {
   "cell_type": "code",
   "execution_count": 4,
   "metadata": {},
   "outputs": [],
   "source": [
    "refresh_plot_sin(output_widget, figure, axis)\n",
    "overlay_plot_sin(output_widget, figure, axis)"
   ]
  },
  {
   "cell_type": "code",
   "execution_count": 5,
   "metadata": {},
   "outputs": [
    {
     "data": {
      "application/vnd.jupyter.widget-view+json": {
       "model_id": "a96255481a844a50b096edf5c531f382",
       "version_major": 2,
       "version_minor": 0
      },
      "text/plain": [
       "Canvas(toolbar=Toolbar(toolitems=[('Home', 'Reset original view', 'home', 'home'), ('Back', 'Back to previous …"
      ]
     },
     "metadata": {},
     "output_type": "display_data"
    }
   ],
   "source": [
    "output_widget, figure, axis = init_plot()"
   ]
  },
  {
   "cell_type": "code",
   "execution_count": 6,
   "metadata": {},
   "outputs": [],
   "source": [
    "def refresh_plot_dots(output_widget, figure, axis):\n",
    "    axis.set_xlim(0,10)\n",
    "    axis.set_ylim(0,10)\n",
    "    x_points = []\n",
    "    y_points = []\n",
    "    line, = axis.plot(0,0)\n",
    "    with output_widget:\n",
    "        for i in range(0,11):\n",
    "            x_points.append(i)\n",
    "            y_points.append(i)\n",
    "            line.set_xdata(x_points)\n",
    "            line.set_ydata(y_points)\n",
    "            sleep(0.5)\n",
    "            figure.canvas.draw()\n",
    "\n",
    "def overlay_plot_dots(output_widget, figure, axis):\n",
    "    x_points = []\n",
    "    y_points = []\n",
    "    with output_widget:\n",
    "        for i in range(0,11):\n",
    "            output_widget.clear_output(wait=True)            \n",
    "            x_points.append(i)\n",
    "            y_points.append(i)\n",
    "            axis.plot(x_points, y_points)\n",
    "            sleep(0.5)\n",
    "            figure.canvas.draw()"
   ]
  },
  {
   "cell_type": "code",
   "execution_count": 7,
   "metadata": {},
   "outputs": [],
   "source": [
    "refresh_plot_dots(output_widget, figure, axis)\n",
    "overlay_plot_dots(output_widget, figure, axis)"
   ]
  }
 ],
 "metadata": {
  "kernelspec": {
   "display_name": "Python 3",
   "language": "python",
   "name": "python3"
  },
  "language_info": {
   "codemirror_mode": {
    "name": "ipython",
    "version": 3
   },
   "file_extension": ".py",
   "mimetype": "text/x-python",
   "name": "python",
   "nbconvert_exporter": "python",
   "pygments_lexer": "ipython3",
   "version": "3.8.0"
  }
 },
 "nbformat": 4,
 "nbformat_minor": 4
}
