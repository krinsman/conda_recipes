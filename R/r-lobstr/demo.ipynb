{
 "cells": [
  {
   "cell_type": "code",
   "execution_count": 1,
   "metadata": {},
   "outputs": [],
   "source": [
    "library(lobstr)"
   ]
  },
  {
   "cell_type": "code",
   "execution_count": 2,
   "metadata": {},
   "outputs": [
    {
     "data": {
      "text/plain": [
       "█─`+` \n",
       "├─█─`+` \n",
       "│ ├─a \n",
       "│ └─b \n",
       "└─c "
      ]
     },
     "metadata": {},
     "output_type": "display_data"
    }
   ],
   "source": [
    "ast(a + b + c)"
   ]
  },
  {
   "cell_type": "code",
   "execution_count": 3,
   "metadata": {},
   "outputs": [
    {
     "data": {
      "text/plain": [
       "█─`function` \n",
       "├─█─x = 1 \n",
       "├─█─`{` \n",
       "│ └─█─`if` \n",
       "│   ├─█─`>` \n",
       "│   │ ├─x \n",
       "│   │ └─0 \n",
       "│   └─█─print \n",
       "│     └─\"Hi!\" \n",
       "└─<inline srcref> "
      ]
     },
     "metadata": {},
     "output_type": "display_data"
    }
   ],
   "source": [
    "ast(function(x = 1) {\n",
    "  if (x > 0) print(\"Hi!\")\n",
    "})"
   ]
  },
  {
   "cell_type": "code",
   "execution_count": 4,
   "metadata": {},
   "outputs": [
    {
     "data": {
      "text/plain": [
       "█ <1:0x7fc4b1e71838> list \n",
       "├─<2:0x10b8df000> int \n",
       "├─<2:0x10b8df000> \n",
       "└─<2:0x10b8df000> "
      ]
     },
     "metadata": {},
     "output_type": "display_data"
    }
   ],
   "source": [
    "x <- 1:1e6\n",
    "y <- list(x, x, x)\n",
    "ref(y)"
   ]
  },
  {
   "cell_type": "code",
   "execution_count": 5,
   "metadata": {},
   "outputs": [
    {
     "data": {
      "text/plain": [
       "█ <1:0x7fc4b5d34ee8> env \n",
       "└─self = <1:0x7fc4b5d34ee8> "
      ]
     },
     "metadata": {},
     "output_type": "display_data"
    }
   ],
   "source": [
    "e <- rlang::env()\n",
    "e$self <- e\n",
    "ref(e)"
   ]
  },
  {
   "cell_type": "code",
   "execution_count": 6,
   "metadata": {},
   "outputs": [
    {
     "name": "stdout",
     "output_type": "stream",
     "text": [
      "█\n",
      "├─IRkernel::main()\n",
      "│ └─kernel$run()\n",
      "│   └─handle_shell()\n",
      "│     └─executor$execute(msg)\n",
      "│       ├─tryCatch(...)\n",
      "│       │ └─tryCatchList(expr, classes, parentenv, handlers)\n",
      "│       │   ├─tryCatchOne(...)\n",
      "│       │   │ └─doTryCatch(return(expr), name, parentenv, handler)\n",
      "│       │   └─tryCatchList(expr, names[-nh], parentenv, handlers[-nh])\n",
      "│       │     └─tryCatchOne(expr, names, parentenv, handlers[[1L]])\n",
      "│       │       └─doTryCatch(return(expr), name, parentenv, handler)\n",
      "│       └─evaluate(...)\n",
      "│         └─evaluate_call(...)\n",
      "│           ├─timing_fn(...)\n",
      "│           ├─handle(...)\n",
      "│           │ └─try(f, silent = TRUE)\n",
      "│           │   └─tryCatch(...)\n",
      "│           │     └─tryCatchList(expr, classes, parentenv, handlers)\n",
      "│           │       └─tryCatchOne(expr, names, parentenv, handlers[[1L]])\n",
      "│           │         └─doTryCatch(return(expr), name, parentenv, handler)\n",
      "│           ├─withCallingHandlers(...)\n",
      "│           ├─withVisible(eval(expr, envir, enclos))\n",
      "│           └─eval(expr, envir, enclos)\n",
      "│             └─eval(expr, envir, enclos)\n",
      "├─f(cst())\n",
      "│ └─g(x)\n",
      "│   └─h(x)\n",
      "└─cst()\n"
     ]
    }
   ],
   "source": [
    "f <- function(x) g(x)\n",
    "g <- function(x) h(x)\n",
    "h <- function(x) x\n",
    "f(cst())"
   ]
  },
  {
   "cell_type": "code",
   "execution_count": null,
   "metadata": {},
   "outputs": [],
   "source": []
  }
 ],
 "metadata": {
  "kernelspec": {
   "display_name": "R",
   "language": "R",
   "name": "ir"
  },
  "language_info": {
   "codemirror_mode": "r",
   "file_extension": ".r",
   "mimetype": "text/x-r-source",
   "name": "R",
   "pygments_lexer": "r",
   "version": "3.4.3"
  }
 },
 "nbformat": 4,
 "nbformat_minor": 2
}
