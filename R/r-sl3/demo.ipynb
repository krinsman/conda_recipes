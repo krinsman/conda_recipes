{
 "cells": [
  {
   "cell_type": "markdown",
   "metadata": {},
   "source": [
    "This example code is copy-pasted from the [readme file of sl3](https://github.com/tlverse/sl3) and the [readme file of condensier](https://github.com/osofr/condensier). None of this code is mine; it is all copied.\n",
    "\n",
    "Note: many of the libraries suggested by sl3 and used in this demo are not available in the default Anaconda repository. However, all of the suggested libraries not in the default Anaconda repository (besides `keras` and `kerasR`) are also available in the `krinsman` channel where the `sl3` package is found."
   ]
  },
  {
   "cell_type": "code",
   "execution_count": 1,
   "metadata": {},
   "outputs": [],
   "source": [
    "library(sl3)"
   ]
  },
  {
   "cell_type": "code",
   "execution_count": 2,
   "metadata": {},
   "outputs": [
    {
     "name": "stderr",
     "output_type": "stream",
     "text": [
      "\n",
      "Attaching package: ‘dplyr’\n",
      "\n",
      "The following objects are masked from ‘package:stats’:\n",
      "\n",
      "    filter, lag\n",
      "\n",
      "The following objects are masked from ‘package:base’:\n",
      "\n",
      "    intersect, setdiff, setequal, union\n",
      "\n",
      "\n",
      "Attaching package: ‘data.table’\n",
      "\n",
      "The following objects are masked from ‘package:dplyr’:\n",
      "\n",
      "    between, first, last\n",
      "\n",
      "origami: Generalized Cross-Validation Framework\n",
      "Version: 1.0.0\n",
      "Loading required package: nnls\n",
      "Super Learner\n",
      "Version: 2.0-23\n",
      "Package created on 2018-03-09\n",
      "\n",
      "Loading required package: Matrix\n",
      "Loading required package: foreach\n",
      "Loaded glmnet 2.0-13\n",
      "\n",
      "\n",
      "Attaching package: ‘xgboost’\n",
      "\n",
      "The following object is masked from ‘package:dplyr’:\n",
      "\n",
      "    slice\n",
      "\n"
     ]
    }
   ],
   "source": [
    "library(magrittr)\n",
    "library(dplyr)\n",
    "library(data.table)\n",
    "library(origami)\n",
    "library(SuperLearner)\n",
    "library(glmnet)\n",
    "library(xgboost)\n",
    "library(Rsolnp)"
   ]
  },
  {
   "cell_type": "code",
   "execution_count": 3,
   "metadata": {},
   "outputs": [],
   "source": [
    "data(cpp)\n",
    "cpp <- cpp %>%\n",
    "  dplyr::filter(!is.na(haz)) %>%\n",
    "  mutate_all(funs(replace(., is.na(.), 0)))"
   ]
  },
  {
   "cell_type": "code",
   "execution_count": 4,
   "metadata": {},
   "outputs": [],
   "source": [
    "# use covariates of intest and the outcome to build a task object\n",
    "covars <- c(\"apgar1\", \"apgar5\", \"parity\", \"gagebrth\", \"mage\", \"meducyrs\",\n",
    "            \"sexn\")\n",
    "task <- sl3_Task$new(cpp, covariates = covars, outcome = \"haz\")\n"
   ]
  },
  {
   "cell_type": "code",
   "execution_count": 5,
   "metadata": {},
   "outputs": [],
   "source": [
    "# set up screeners and learners via built-in functions and pipelines\n",
    "slscreener <- Lrnr_pkg_SuperLearner_screener$new(\"screen.glmnet\")\n",
    "glm_learner <- Lrnr_glm$new()\n",
    "screen_and_glm <- Pipeline$new(slscreener, glm_learner)\n",
    "SL.glmnet_learner <- Lrnr_pkg_SuperLearner$new(SL_wrapper = \"SL.glmnet\")\n"
   ]
  },
  {
   "cell_type": "code",
   "execution_count": 6,
   "metadata": {},
   "outputs": [],
   "source": [
    "# stack learners into a model (including screeners and pipelines)\n",
    "learner_stack <- Stack$new(SL.glmnet_learner, glm_learner, screen_and_glm)\n",
    "stack_fit <- learner_stack$train(task)"
   ]
  },
  {
   "cell_type": "code",
   "execution_count": 7,
   "metadata": {},
   "outputs": [
    {
     "data": {
      "text/html": [
       "<table>\n",
       "<thead><tr><th scope=col>Lrnr_pkg_SuperLearner_SL.glmnet</th><th scope=col>Lrnr_glm_TRUE</th><th scope=col>Lrnr_pkg_SuperLearner_screener_screen.glmnet___Lrnr_glm_TRUE</th></tr></thead>\n",
       "<tbody>\n",
       "\t<tr><td>0.35673069</td><td>0.36298498</td><td>0.36228209</td></tr>\n",
       "\t<tr><td>0.35673069</td><td>0.36298498</td><td>0.36228209</td></tr>\n",
       "\t<tr><td>0.25045165</td><td>0.25993072</td><td>0.25870995</td></tr>\n",
       "\t<tr><td>0.25045165</td><td>0.25993072</td><td>0.25870995</td></tr>\n",
       "\t<tr><td>0.25045165</td><td>0.25993072</td><td>0.25870995</td></tr>\n",
       "\t<tr><td>0.03938581</td><td>0.05680264</td><td>0.05600958</td></tr>\n",
       "</tbody>\n",
       "</table>\n"
      ],
      "text/latex": [
       "\\begin{tabular}{r|lll}\n",
       " Lrnr\\_pkg\\_SuperLearner\\_SL.glmnet & Lrnr\\_glm\\_TRUE & Lrnr\\_pkg\\_SuperLearner\\_screener\\_screen.glmnet\\_\\_\\_Lrnr\\_glm\\_TRUE\\\\\n",
       "\\hline\n",
       "\t 0.35673069 & 0.36298498 & 0.36228209\\\\\n",
       "\t 0.35673069 & 0.36298498 & 0.36228209\\\\\n",
       "\t 0.25045165 & 0.25993072 & 0.25870995\\\\\n",
       "\t 0.25045165 & 0.25993072 & 0.25870995\\\\\n",
       "\t 0.25045165 & 0.25993072 & 0.25870995\\\\\n",
       "\t 0.03938581 & 0.05680264 & 0.05600958\\\\\n",
       "\\end{tabular}\n"
      ],
      "text/markdown": [
       "\n",
       "Lrnr_pkg_SuperLearner_SL.glmnet | Lrnr_glm_TRUE | Lrnr_pkg_SuperLearner_screener_screen.glmnet___Lrnr_glm_TRUE | \n",
       "|---|---|---|---|---|---|\n",
       "| 0.35673069 | 0.36298498 | 0.36228209 | \n",
       "| 0.35673069 | 0.36298498 | 0.36228209 | \n",
       "| 0.25045165 | 0.25993072 | 0.25870995 | \n",
       "| 0.25045165 | 0.25993072 | 0.25870995 | \n",
       "| 0.25045165 | 0.25993072 | 0.25870995 | \n",
       "| 0.03938581 | 0.05680264 | 0.05600958 | \n",
       "\n",
       "\n"
      ],
      "text/plain": [
       "  Lrnr_pkg_SuperLearner_SL.glmnet Lrnr_glm_TRUE\n",
       "1 0.35673069                      0.36298498   \n",
       "2 0.35673069                      0.36298498   \n",
       "3 0.25045165                      0.25993072   \n",
       "4 0.25045165                      0.25993072   \n",
       "5 0.25045165                      0.25993072   \n",
       "6 0.03938581                      0.05680264   \n",
       "  Lrnr_pkg_SuperLearner_screener_screen.glmnet___Lrnr_glm_TRUE\n",
       "1 0.36228209                                                  \n",
       "2 0.36228209                                                  \n",
       "3 0.25870995                                                  \n",
       "4 0.25870995                                                  \n",
       "5 0.25870995                                                  \n",
       "6 0.05600958                                                  "
      ]
     },
     "metadata": {},
     "output_type": "display_data"
    }
   ],
   "source": [
    "preds <- stack_fit$predict()\n",
    "head(preds)"
   ]
  },
  {
   "cell_type": "code",
   "execution_count": 8,
   "metadata": {},
   "outputs": [],
   "source": [
    "library(simcausal)"
   ]
  },
  {
   "cell_type": "code",
   "execution_count": 9,
   "metadata": {},
   "outputs": [
    {
     "name": "stderr",
     "output_type": "stream",
     "text": [
      "...automatically assigning order attribute to some nodes...\n",
      "node W1, order:1\n",
      "node W2, order:2\n",
      "node W3, order:3\n",
      "node sA.mu, order:4\n",
      "node sA, order:5\n"
     ]
    }
   ],
   "source": [
    "D <- DAG.empty()\n",
    "D <-\n",
    "D + node(\"W1\", distr = \"rbern\", prob = 0.5) +\n",
    "  node(\"W2\", distr = \"rbern\", prob = 0.3) +\n",
    "  node(\"W3\", distr = \"rbern\", prob = 0.3) +\n",
    "  node(\"sA.mu\", distr = \"rconst\", const = (0.98 * W1 + 0.58 * W2 + 0.33 * W3)) +\n",
    "  node(\"sA\", distr = \"rnorm\", mean = sA.mu, sd = 1)\n",
    "D <- set.DAG(D, n.test = 10)"
   ]
  },
  {
   "cell_type": "code",
   "execution_count": 10,
   "metadata": {},
   "outputs": [
    {
     "name": "stderr",
     "output_type": "stream",
     "text": [
      "simulating observed dataset from the DAG object\n"
     ]
    }
   ],
   "source": [
    "datO <- sim(D, n = 10000, rndseed = 12345)"
   ]
  },
  {
   "cell_type": "code",
   "execution_count": 11,
   "metadata": {},
   "outputs": [
    {
     "name": "stderr",
     "output_type": "stream",
     "text": [
      "condensier\n",
      "The condensier package is still in beta testing. Interpret results with caution.\n"
     ]
    }
   ],
   "source": [
    "library(\"condensier\")"
   ]
  },
  {
   "cell_type": "code",
   "execution_count": 12,
   "metadata": {},
   "outputs": [],
   "source": [
    "dens_fit <- fit_density(\n",
    "    X = c(\"W1\", \"W2\", \"W3\"), \n",
    "    Y = \"sA\", \n",
    "    input_data = datO, \n",
    "    nbins = 20, \n",
    "    bin_method = \"equal.mass\",\n",
    "    bin_estimator = speedglmR6$new())"
   ]
  },
  {
   "cell_type": "code",
   "execution_count": 13,
   "metadata": {},
   "outputs": [],
   "source": [
    "newdata <- datO[1:5, c(\"W1\", \"W2\", \"W3\", \"sA\"), with = FALSE]\n",
    "preds <- predict_probability(dens_fit, newdata)\n",
    "\n",
    "sampledY <- sample_value(dens_fit, newdata)\n",
    "\n",
    "dens_fit <- fit_density(\n",
    "    X = c(\"W1\", \"W2\", \"W3\"),\n",
    "    Y = \"sA\",\n",
    "    input_data = datO,\n",
    "    bin_estimator = speedglmR6$new(),\n",
    "    intrvls = list(sA = seq(-4,4, by = 0.1)))\n",
    "\n",
    "dens_fit <- fit_density(\n",
    "    X = c(\"W1\", \"W2\", \"W3\"),\n",
    "    Y = \"sA\",\n",
    "    input_data = datO,\n",
    "    bin_estimator = speedglmR6$new(),\n",
    "    intrvls = list(sA = seq(-4,4, by = 0.1)),\n",
    "    pool = TRUE)"
   ]
  },
  {
   "cell_type": "code",
   "execution_count": 14,
   "metadata": {},
   "outputs": [
    {
     "data": {
      "text/html": [
       "<table>\n",
       "<thead><tr><th scope=col>likelihood</th></tr></thead>\n",
       "<tbody>\n",
       "\t<tr><td>0.06301719</td></tr>\n",
       "\t<tr><td>0.05660773</td></tr>\n",
       "\t<tr><td>0.06301719</td></tr>\n",
       "\t<tr><td>0.05085018</td></tr>\n",
       "\t<tr><td>0.07809542</td></tr>\n",
       "</tbody>\n",
       "</table>\n"
      ],
      "text/latex": [
       "\\begin{tabular}{r|l}\n",
       " likelihood\\\\\n",
       "\\hline\n",
       "\t 0.06301719\\\\\n",
       "\t 0.05660773\\\\\n",
       "\t 0.06301719\\\\\n",
       "\t 0.05085018\\\\\n",
       "\t 0.07809542\\\\\n",
       "\\end{tabular}\n"
      ],
      "text/markdown": [
       "\n",
       "likelihood | \n",
       "|---|---|---|---|---|\n",
       "| 0.06301719 | \n",
       "| 0.05660773 | \n",
       "| 0.06301719 | \n",
       "| 0.05085018 | \n",
       "| 0.07809542 | \n",
       "\n",
       "\n"
      ],
      "text/plain": [
       "  likelihood\n",
       "1 0.06301719\n",
       "2 0.05660773\n",
       "3 0.06301719\n",
       "4 0.05085018\n",
       "5 0.07809542"
      ]
     },
     "metadata": {},
     "output_type": "display_data"
    }
   ],
   "source": [
    "task <- sl3_Task$new(datO, covariates=c(\"W1\", \"W2\", \"W3\"), outcome=\"sA\")\n",
    "lrn <- Lrnr_condensier$new(nbins = 10, bin_method = \"equal.len\", pool = TRUE, \n",
    "  bin_estimator = Lrnr_xgboost$new(nrounds = 5, objective = \"reg:logistic\"))\n",
    "\n",
    "trained_lrn = lrn$train(task)\n",
    "\n",
    "newdata <- datO[1:5, c(\"W1\", \"W2\", \"W3\", \"sA\")]\n",
    "new_task <- sl3_Task$new(newdata, covariates=c(\"W1\", \"W2\", \"W3\"),outcome=\"sA\" )\n",
    "pred_probs = trained_lrn$predict(new_task)\n",
    "pred_probs"
   ]
  },
  {
   "cell_type": "code",
   "execution_count": 15,
   "metadata": {},
   "outputs": [
    {
     "data": {
      "text/html": [
       "<table>\n",
       "<thead><tr><th scope=col>likelihood</th></tr></thead>\n",
       "<tbody>\n",
       "\t<tr><td>0.06301719</td></tr>\n",
       "\t<tr><td>0.05660773</td></tr>\n",
       "\t<tr><td>0.06301719</td></tr>\n",
       "\t<tr><td>0.05085018</td></tr>\n",
       "\t<tr><td>0.07809542</td></tr>\n",
       "</tbody>\n",
       "</table>\n"
      ],
      "text/latex": [
       "\\begin{tabular}{r|l}\n",
       " likelihood\\\\\n",
       "\\hline\n",
       "\t 0.06301719\\\\\n",
       "\t 0.05660773\\\\\n",
       "\t 0.06301719\\\\\n",
       "\t 0.05085018\\\\\n",
       "\t 0.07809542\\\\\n",
       "\\end{tabular}\n"
      ],
      "text/markdown": [
       "\n",
       "likelihood | \n",
       "|---|---|---|---|---|\n",
       "| 0.06301719 | \n",
       "| 0.05660773 | \n",
       "| 0.06301719 | \n",
       "| 0.05085018 | \n",
       "| 0.07809542 | \n",
       "\n",
       "\n"
      ],
      "text/plain": [
       "  likelihood\n",
       "1 0.06301719\n",
       "2 0.05660773\n",
       "3 0.06301719\n",
       "4 0.05085018\n",
       "5 0.07809542"
      ]
     },
     "metadata": {},
     "output_type": "display_data"
    }
   ],
   "source": [
    "trained_lrn = lrn$train(task)\n",
    "\n",
    "newdata <- datO[1:5, c(\"W1\", \"W2\", \"W3\", \"sA\")]\n",
    "new_task <- sl3_Task$new(newdata, covariates=c(\"W1\", \"W2\", \"W3\"),outcome=\"sA\" )\n",
    "pred_probs = trained_lrn$predict(new_task)\n",
    "pred_probs"
   ]
  },
  {
   "cell_type": "code",
   "execution_count": 16,
   "metadata": {},
   "outputs": [],
   "source": [
    "lrn1 <- Lrnr_condensier$new(nbins = 25, bin_method = \"equal.len\", pool = TRUE, \n",
    "  bin_estimator = Lrnr_glm_fast$new(family = \"binomial\"))\n",
    "lrn2 <- Lrnr_condensier$new(nbins = 20, bin_method = \"equal.mass\", pool = TRUE,\n",
    "  bin_estimator = Lrnr_xgboost$new(nrounds = 50, objective = \"reg:logistic\"))\n",
    "lrn3 <- Lrnr_condensier$new(nbins = 35, bin_method = \"equal.len\", pool = TRUE,\n",
    "  bin_estimator = Lrnr_xgboost$new(nrounds = 50, objective = \"reg:logistic\"))"
   ]
  },
  {
   "cell_type": "code",
   "execution_count": 17,
   "metadata": {},
   "outputs": [],
   "source": [
    "lrn <- Lrnr_condensier$new(nbins = 35, bin_method = \"equal.len\", pool = TRUE, bin_estimator = \n",
    "  Lrnr_sl$new(\n",
    "    learners = list(\n",
    "      Lrnr_glm_fast$new(family = \"binomial\"),\n",
    "      Lrnr_xgboost$new(nrounds = 50, objective = \"reg:logistic\")\n",
    "      ),\n",
    "    metalearner = Lrnr_glm$new()\n",
    "    ))\n",
    "binSL_fit <- lrn$train(task)"
   ]
  },
  {
   "cell_type": "code",
   "execution_count": null,
   "metadata": {},
   "outputs": [],
   "source": []
  }
 ],
 "metadata": {
  "kernelspec": {
   "display_name": "R",
   "language": "R",
   "name": "ir"
  },
  "language_info": {
   "codemirror_mode": "r",
   "file_extension": ".r",
   "mimetype": "text/x-r-source",
   "name": "R",
   "pygments_lexer": "r",
   "version": "3.4.3"
  }
 },
 "nbformat": 4,
 "nbformat_minor": 2
}
