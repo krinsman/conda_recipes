{
 "cells": [
  {
   "cell_type": "markdown",
   "metadata": {},
   "source": [
    "Note: none of this code is mine; it is all copied from the readme file of `delayed`. Credit is due to the authors, who are not me."
   ]
  },
  {
   "cell_type": "code",
   "execution_count": 1,
   "metadata": {},
   "outputs": [
    {
     "name": "stderr",
     "output_type": "stream",
     "text": [
      "condensier\n",
      "The condensier package is still in beta testing. Interpret results with caution.\n"
     ]
    }
   ],
   "source": [
    "library(condensier)"
   ]
  },
  {
   "cell_type": "code",
   "execution_count": 2,
   "metadata": {},
   "outputs": [
    {
     "name": "stderr",
     "output_type": "stream",
     "text": [
      "...automatically assigning order attribute to some nodes...\n",
      "node W1, order:1\n",
      "node W2, order:2\n",
      "node W3, order:3\n",
      "node sA.mu, order:4\n",
      "node sA, order:5\n"
     ]
    }
   ],
   "source": [
    "library(\"simcausal\")\n",
    "D <- DAG.empty()\n",
    "D <-\n",
    "D + node(\"W1\", distr = \"rbern\", prob = 0.5) +\n",
    "  node(\"W2\", distr = \"rbern\", prob = 0.3) +\n",
    "  node(\"W3\", distr = \"rbern\", prob = 0.3) +\n",
    "  node(\"sA.mu\", distr = \"rconst\", const = (0.98 * W1 + 0.58 * W2 + 0.33 * W3)) +\n",
    "  node(\"sA\", distr = \"rnorm\", mean = sA.mu, sd = 1)\n",
    "D <- set.DAG(D, n.test = 10)"
   ]
  },
  {
   "cell_type": "code",
   "execution_count": 3,
   "metadata": {},
   "outputs": [
    {
     "name": "stderr",
     "output_type": "stream",
     "text": [
      "simulating observed dataset from the DAG object\n"
     ]
    }
   ],
   "source": [
    "datO <- sim(D, n = 10000, rndseed = 12345)"
   ]
  },
  {
   "cell_type": "code",
   "execution_count": 4,
   "metadata": {},
   "outputs": [],
   "source": [
    "dens_fit <- fit_density(\n",
    "    X = c(\"W1\", \"W2\", \"W3\"), \n",
    "    Y = \"sA\", \n",
    "    input_data = datO, \n",
    "    nbins = 20, \n",
    "    bin_method = \"equal.mass\",\n",
    "    bin_estimator = speedglmR6$new())"
   ]
  },
  {
   "cell_type": "code",
   "execution_count": 5,
   "metadata": {},
   "outputs": [],
   "source": [
    "newdata <- datO[1:5, c(\"W1\", \"W2\", \"W3\", \"sA\"), with = FALSE]\n",
    "preds <- predict_probability(dens_fit, newdata)"
   ]
  },
  {
   "cell_type": "code",
   "execution_count": 6,
   "metadata": {},
   "outputs": [],
   "source": [
    "sampledY <- sample_value(dens_fit, newdata)"
   ]
  },
  {
   "cell_type": "code",
   "execution_count": 7,
   "metadata": {},
   "outputs": [],
   "source": [
    "dens_fit <- fit_density(\n",
    "    X = c(\"W1\", \"W2\", \"W3\"),\n",
    "    Y = \"sA\",\n",
    "    input_data = datO,\n",
    "    bin_estimator = speedglmR6$new(),\n",
    "    intrvls = list(sA = seq(-4,4, by = 0.1)))"
   ]
  },
  {
   "cell_type": "code",
   "execution_count": 8,
   "metadata": {},
   "outputs": [],
   "source": [
    "dens_fit <- fit_density(\n",
    "    X = c(\"W1\", \"W2\", \"W3\"),\n",
    "    Y = \"sA\",\n",
    "    input_data = datO,\n",
    "    bin_estimator = speedglmR6$new(),\n",
    "    intrvls = list(sA = seq(-4,4, by = 0.1)),\n",
    "    pool = TRUE)"
   ]
  },
  {
   "cell_type": "code",
   "execution_count": null,
   "metadata": {},
   "outputs": [],
   "source": []
  }
 ],
 "metadata": {
  "kernelspec": {
   "display_name": "R",
   "language": "R",
   "name": "ir"
  },
  "language_info": {
   "codemirror_mode": "r",
   "file_extension": ".r",
   "mimetype": "text/x-r-source",
   "name": "R",
   "pygments_lexer": "r",
   "version": "3.4.3"
  }
 },
 "nbformat": 4,
 "nbformat_minor": 2
}
