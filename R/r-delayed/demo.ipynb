{
 "cells": [
  {
   "cell_type": "markdown",
   "metadata": {},
   "source": [
    "Note: all of this code is copy-pasted from the readme file of delayed. None of it is my code; it is all copied."
   ]
  },
  {
   "cell_type": "code",
   "execution_count": 1,
   "metadata": {},
   "outputs": [
    {
     "name": "stderr",
     "output_type": "stream",
     "text": [
      "delayed: Framework for Parallelizing Dependent Tasks\n",
      "Version: 0.2.1\n"
     ]
    }
   ],
   "source": [
    "library(delayed)"
   ]
  },
  {
   "cell_type": "code",
   "execution_count": 2,
   "metadata": {},
   "outputs": [],
   "source": [
    "# delay a function that does a bit of math\n",
    "mapfun <- function(x, y) {(x + y) / (x - y)}\n",
    "delayed_mapfun <- delayed_fun(mapfun)"
   ]
  },
  {
   "cell_type": "code",
   "execution_count": 3,
   "metadata": {},
   "outputs": [],
   "source": [
    "set.seed(14765)\n",
    "library(future)\n",
    "plan(multicore, workers = 2)\n",
    "const <- 7"
   ]
  },
  {
   "cell_type": "code",
   "execution_count": 4,
   "metadata": {},
   "outputs": [],
   "source": [
    "# re-define the delayed object from above\n",
    "delayed_norm <- delayed(rnorm(n = const))\n",
    "delayed_pois <- delayed(rpois(n = const, lambda = const))\n",
    "chained_norm_pois <- delayed_mapfun(delayed_norm, delayed_pois)"
   ]
  },
  {
   "cell_type": "code",
   "execution_count": 5,
   "metadata": {},
   "outputs": [
    {
     "name": "stderr",
     "output_type": "stream",
     "text": [
      "run:0 ready:2 workers:2\n",
      "updating rnorm(n = const) from ready to running\n",
      "run:1 ready:1 workers:2\n",
      "updating rpois(n = const, lambda = const) from ready to running\n",
      "run:2 ready:0 workers:2\n",
      "updating rnorm(n = const) from running to resolved\n",
      "updating rpois(n = const, lambda = const) from running to resolved\n",
      "updating mapfun(x = delayed_norm, y = delayed_pois) from waiting to ready\n",
      "run:0 ready:1 workers:2\n",
      "updating mapfun(x = delayed_norm, y = delayed_pois) from ready to running\n",
      "run:1 ready:0 workers:2\n",
      "updating mapfun(x = delayed_norm, y = delayed_pois) from running to resolved\n"
     ]
    },
    {
     "data": {
      "text/html": [
       "<ol class=list-inline>\n",
       "\t<li>-0.600228328784058</li>\n",
       "\t<li>-0.583467515291195</li>\n",
       "\t<li>-1.08337601112527</li>\n",
       "\t<li>-1.06708480297249</li>\n",
       "\t<li>-0.96652025803853</li>\n",
       "\t<li>-1.03861481495606</li>\n",
       "\t<li>-1.04003372213287</li>\n",
       "</ol>\n"
      ],
      "text/latex": [
       "\\begin{enumerate*}\n",
       "\\item -0.600228328784058\n",
       "\\item -0.583467515291195\n",
       "\\item -1.08337601112527\n",
       "\\item -1.06708480297249\n",
       "\\item -0.96652025803853\n",
       "\\item -1.03861481495606\n",
       "\\item -1.04003372213287\n",
       "\\end{enumerate*}\n"
      ],
      "text/markdown": [
       "1. -0.600228328784058\n",
       "2. -0.583467515291195\n",
       "3. -1.08337601112527\n",
       "4. -1.06708480297249\n",
       "5. -0.96652025803853\n",
       "6. -1.03861481495606\n",
       "7. -1.04003372213287\n",
       "\n",
       "\n"
      ],
      "text/plain": [
       "[1] -0.6002283 -0.5834675 -1.0833760 -1.0670848 -0.9665203 -1.0386148 -1.0400337"
      ]
     },
     "metadata": {},
     "output_type": "display_data"
    }
   ],
   "source": [
    "# compute it using the future plan (multicore with 2 cores)\n",
    "chained_norm_pois$compute(nworkers = 2, verbose = TRUE)"
   ]
  },
  {
   "cell_type": "code",
   "execution_count": null,
   "metadata": {},
   "outputs": [],
   "source": []
  }
 ],
 "metadata": {
  "kernelspec": {
   "display_name": "R",
   "language": "R",
   "name": "ir"
  },
  "language_info": {
   "codemirror_mode": "r",
   "file_extension": ".r",
   "mimetype": "text/x-r-source",
   "name": "R",
   "pygments_lexer": "r",
   "version": "3.4.3"
  }
 },
 "nbformat": 4,
 "nbformat_minor": 2
}
